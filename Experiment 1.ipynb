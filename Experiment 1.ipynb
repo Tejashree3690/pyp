{
  "metadata": {
    "kernelspec": {
      "name": "python",
      "display_name": "Python (Pyodide)",
      "language": "python"
    },
    "language_info": {
      "codemirror_mode": {
        "name": "python",
        "version": 3
      },
      "file_extension": ".py",
      "mimetype": "text/x-python",
      "name": "python",
      "nbconvert_exporter": "python",
      "pygments_lexer": "ipython3",
      "version": "3.8"
    }
  },
  "nbformat_minor": 5,
  "nbformat": 4,
  "cells": [
    {
      "id": "8d6eaa79-31cc-43b1-ab63-c1bbc3b5af1b",
      "cell_type": "markdown",
      "source": "### Tejashree Latke, Practical no.1",
      "metadata": {}
    },
    {
      "id": "eb347c0c-17ce-4ada-8d05-2f786339ad89",
      "cell_type": "markdown",
      "source": "### Strings in Python",
      "metadata": {}
    },
    {
      "id": "bfafb64f-fec4-458c-bbc2-d1a7c7c5897e",
      "cell_type": "code",
      "source": "# Assigning string to a variable\na = ''\nprint (a)\nb = \"This is a string\"\nprint (b)\nc= '''This is a string'''\nprint (c)",
      "metadata": {
        "trusted": true
      },
      "outputs": [
        {
          "name": "stdout",
          "output_type": "stream",
          "text": "This is a string\nThis is a string\nThis is a string\n"
        }
      ],
      "execution_count": 1
    },
    {
      "id": "5a37c2f4-e521-493a-a61d-c3521eede639",
      "cell_type": "markdown",
      "source": "### Lists in Python",
      "metadata": {}
    },
    {
      "id": "05d4b708-a692-4fa0-9575-8e102da1d54a",
      "cell_type": "code",
      "source": "# Declaring a list\nL = [1, \"a\" , \"string\" , 1+2]\nprint (L)\n#Adding an element in the list\nL.append(6) \nprint (L)\n#Deleting last element from a list\nL.pop()\nprint (L)\n#Displaying Second element of the list\nprint (L[1])",
      "metadata": {
        "trusted": true
      },
      "outputs": [
        {
          "name": "stdout",
          "output_type": "stream",
          "text": "[1, 'a', 'string', 3]\n[1, 'a', 'string', 3, 6]\n[1, 'a', 'string', 3]\na\n"
        }
      ],
      "execution_count": 2
    },
    {
      "id": "d3c3a501-2469-4c5a-8356-8bdcccea4077",
      "cell_type": "markdown",
      "source": "### Tuples in Python",
      "metadata": {}
    },
    {
      "id": "8bc467b2-7ece-4697-8685-39aa4ccab1e2",
      "cell_type": "code",
      "source": "tup = (1, \"a\", \"string\", 1+2)\nprint(tup)\nprint(tup[1])",
      "metadata": {
        "trusted": true
      },
      "outputs": [
        {
          "name": "stdout",
          "output_type": "stream",
          "text": "(1, 'a', 'string', 3)\na\n"
        }
      ],
      "execution_count": 3
    },
    {
      "id": "be2b9a01-cd69-46a3-a599-27785def048e",
      "cell_type": "markdown",
      "source": "### Dictionaries in Python",
      "metadata": {}
    },
    {
      "id": "a0431009-caef-46f5-a9f3-07f2b14c7ad0",
      "cell_type": "code",
      "source": "d = {1: 'Lorem', 2: 'Ipsum', 3: 'Dolerum'}\nprint(d)",
      "metadata": {
        "trusted": true
      },
      "outputs": [
        {
          "name": "stdout",
          "output_type": "stream",
          "text": "{1: 'Lorem', 2: 'Ipsum', 3: 'Dolerum'}\n"
        }
      ],
      "execution_count": 4
    },
    {
      "id": "54d2f109-3186-44a8-9c59-57f9c39baeb8",
      "cell_type": "markdown",
      "source": "### Create a Dictionary",
      "metadata": {}
    },
    {
      "id": "03c0c4ef-cbdd-4936-a1e0-ccf317d821e9",
      "cell_type": "code",
      "source": "# create dictionary using { }\nd1 = {1: 'Game', 2: 'of', 3: 'Thrones'}\nprint(d1)\n\n# create dictionary using dict() constructor\nd2 = dict(a = \"House\", b = \"of\", c = \"Cards\")\nprint(d2)",
      "metadata": {
        "trusted": true
      },
      "outputs": [
        {
          "name": "stdout",
          "output_type": "stream",
          "text": "{1: 'Game', 2: 'of', 3: 'Thrones'}\n{'a': 'House', 'b': 'of', 'c': 'Cards'}\n"
        }
      ],
      "execution_count": 5
    },
    {
      "id": "3adf0b8a-46fe-4335-bcf7-5653a01c5d62",
      "cell_type": "markdown",
      "source": "### Accessing Dictionary Items",
      "metadata": {}
    },
    {
      "id": "f6e7ca4f-53d1-4849-add1-d9a77f54fa60",
      "cell_type": "code",
      "source": "d = { \"name\": \"Alice\", 1: \"Python\", (1, 2): [1,2,4] }\n\n# Access using key\nprint(d[\"name\"])\n\n# Access using get()\nprint(d.get(\"name\"))",
      "metadata": {
        "trusted": true
      },
      "outputs": [
        {
          "name": "stdout",
          "output_type": "stream",
          "text": "Alice\nAlice\n"
        }
      ],
      "execution_count": 6
    },
    {
      "id": "eafc88cf-1920-4cb4-88f9-c976c66fff7a",
      "cell_type": "markdown",
      "source": "### Adding and Updating Dictionary Items",
      "metadata": {}
    },
    {
      "id": "627137f4-157e-4676-a16d-bb988fae8256",
      "cell_type": "code",
      "source": "d = {1: 'Game', 2: 'of', 3: 'Thrones'}\n\n# Adding a new key-value pair\nd[\"age\"] = 22\n\n# Updating an existing value\nd[1] = \"Python dict\"\n\nprint(d)",
      "metadata": {
        "trusted": true
      },
      "outputs": [
        {
          "name": "stdout",
          "output_type": "stream",
          "text": "{1: 'Python dict', 2: 'of', 3: 'Thrones', 'age': 22}\n"
        }
      ],
      "execution_count": 7
    },
    {
      "id": "30a11edb-a7c2-42b1-a8f0-32fcecfc8838",
      "cell_type": "markdown",
      "source": "### Deleting Dictionary Items",
      "metadata": {}
    },
    {
      "id": "b101d844-4d15-487d-9993-d5278a27a2d6",
      "cell_type": "code",
      "source": "thisdict =\t{\n  \"brand\": \"Ford\",\n  \"model\": \"Mustang\",\n  \"year\": 1964\n}\ndel thisdict[\"model\"]\nprint(thisdict)",
      "metadata": {
        "trusted": true
      },
      "outputs": [
        {
          "name": "stdout",
          "output_type": "stream",
          "text": "{'brand': 'Ford', 'year': 1964}\n"
        }
      ],
      "execution_count": 22
    },
    {
      "id": "1ed8a6c8-5f2a-4a9a-9291-7931e26a4ca9",
      "cell_type": "code",
      "source": "#pop  Dictionary Items\n\nthisdict = {\n  \"brand\": \"Ford\",\n  \"model\": \"Mustang\",\n  \"year\": 1964\n}\nthisdict.pop(\"model\")\nprint(thisdict)",
      "metadata": {
        "trusted": true
      },
      "outputs": [
        {
          "name": "stdout",
          "output_type": "stream",
          "text": "{'brand': 'Ford', 'year': 1964}\n"
        }
      ],
      "execution_count": 23
    },
    {
      "id": "bb7e1ba8-972c-48eb-abfe-c721ec8edd05",
      "cell_type": "code",
      "source": "# clear Dictionary Items\n\nthisdict = {\n  \"brand\": \"Ford\",\n  \"model\": \"Mustang\",\n  \"year\": 1964\n}\nthisdict.clear()\nprint(thisdict)",
      "metadata": {
        "trusted": true
      },
      "outputs": [
        {
          "name": "stdout",
          "output_type": "stream",
          "text": "{}\n"
        }
      ],
      "execution_count": 24
    },
    {
      "id": "00fd3796-9dd7-4005-aa8a-a90227e682cc",
      "cell_type": "code",
      "source": "#Popitem Dictionary Items\n\nthisdict = {\n  \"brand\": \"Ford\",\n  \"model\": \"Mustang\",\n  \"year\": 1964\n}\nthisdict.popitem()\nprint(thisdict)",
      "metadata": {
        "trusted": true
      },
      "outputs": [
        {
          "name": "stdout",
          "output_type": "stream",
          "text": "{'brand': 'Ford', 'model': 'Mustang'}\n"
        }
      ],
      "execution_count": 25
    },
    {
      "id": "b521a620-64d1-4f48-a3f3-8c6c5694835a",
      "cell_type": "code",
      "source": "",
      "metadata": {
        "trusted": true
      },
      "outputs": [],
      "execution_count": null
    }
  ]
}