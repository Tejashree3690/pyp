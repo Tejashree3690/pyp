{
  "metadata": {
    "kernelspec": {
      "name": "python",
      "display_name": "Python (Pyodide)",
      "language": "python"
    },
    "language_info": {
      "codemirror_mode": {
        "name": "python",
        "version": 3
      },
      "file_extension": ".py",
      "mimetype": "text/x-python",
      "name": "python",
      "nbconvert_exporter": "python",
      "pygments_lexer": "ipython3",
      "version": "3.8"
    }
  },
  "nbformat_minor": 5,
  "nbformat": 4,
  "cells": [
    {
      "id": "2fac13f2-9dd6-491a-bc61-bc7b1af49a03",
      "cell_type": "code",
      "source": "stack = list ()\n\n# Append Operation\nstack.append ('a')\nstack.append ('b')\nstack.append ('c')\nprint ('Initial Stack')\nprint (stack)",
      "metadata": {
        "trusted": true
      },
      "outputs": [
        {
          "name": "stdout",
          "output_type": "stream",
          "text": "Initial Stack\n['a', 'b', 'c']\n"
        }
      ],
      "execution_count": 2
    },
    {
      "id": "ca7b93fd-eb6d-4ba3-a317-806147a87213",
      "cell_type": "code",
      "source": "# Pop Operation\nprint (stack.pop ())\nprint (stack.pop ())\nprint (stack.pop ())\nprint (stack)",
      "metadata": {
        "trusted": true
      },
      "outputs": [
        {
          "name": "stdout",
          "output_type": "stream",
          "text": "c\nb\na\n[]\n"
        }
      ],
      "execution_count": 3
    },
    {
      "id": "b4d07530-7520-4183-b929-0d1800d9a0f4",
      "cell_type": "code",
      "source": "def maxDepth(s: str) -> int:\n    current_depth = 0\n    max_depth = 0\n    \n    for char in s:\n        if char == '(':\n            current_depth += 1\n            max_depth = max(max_depth, current_depth)  \n        elif char == ')':\n            current_depth -= 1\n    return max_depth\n    \ns1 = \"(1+(2*3)+((8)/4))+1\"\ns2 = \"(1)+((2))+(((3)))\"\ns3 = \"()(())((()()))\"\n\nprint(maxDepth(s1))  \nprint(maxDepth(s2))  \nprint(maxDepth(s3))  \n",
      "metadata": {
        "trusted": true
      },
      "outputs": [
        {
          "name": "stdout",
          "output_type": "stream",
          "text": "3\n3\n3\n"
        }
      ],
      "execution_count": 5
    },
    {
      "id": "97a384b2-f6e0-41e6-8cf5-ef943c30ebd2",
      "cell_type": "code",
      "source": "class StackDepth:\n    def maximumDepth (self, stringInput : str) -> int:\n        pass",
      "metadata": {
        "trusted": true
      },
      "outputs": [],
      "execution_count": 8
    },
    {
      "id": "f8eb45a4-ecb3-4ac3-9635-bfd50ca45d73",
      "cell_type": "code",
      "source": " ",
      "metadata": {
        "trusted": true
      },
      "outputs": [],
      "execution_count": null
    }
  ]
}