{
 "cells": [
  {
   "cell_type": "markdown",
   "id": "2c38998f-02c3-42b2-a181-08959a64e32c",
   "metadata": {},
   "source": [
    "Name- Tejashree Latke"
   ]
  },
  {
   "cell_type": "markdown",
   "id": "9ae9803b-8318-4567-a8fe-212070e000a6",
   "metadata": {},
   "source": [
    "Roll no- 68"
   ]
  },
  {
   "cell_type": "code",
   "execution_count": 3,
   "id": "13207c45-820a-4864-982e-3ad4129a18a5",
   "metadata": {
    "scrolled": true
   },
   "outputs": [
    {
     "name": "stdout",
     "output_type": "stream",
     "text": [
      "\n",
      "Select an option:\n",
      "1. Add a new product\n",
      "2. Update product stock\n",
      "3. View product details\n",
      "4. Exit\n"
     ]
    },
    {
     "name": "stdin",
     "output_type": "stream",
     "text": [
      "Enter choice:  1\n",
      "Enter product name:  Laptop\n",
      "Enter product price:  6066\n",
      "Enter product stock:  7\n"
     ]
    },
    {
     "name": "stdout",
     "output_type": "stream",
     "text": [
      "Product added successfully!\n",
      "\n",
      "Select an option:\n",
      "1. Add a new product\n",
      "2. Update product stock\n",
      "3. View product details\n",
      "4. Exit\n"
     ]
    },
    {
     "name": "stdin",
     "output_type": "stream",
     "text": [
      "Enter choice:  3\n",
      "Enter product name:  Computer\n"
     ]
    },
    {
     "name": "stdout",
     "output_type": "stream",
     "text": [
      "Product not found!\n",
      "\n",
      "Select an option:\n",
      "1. Add a new product\n",
      "2. Update product stock\n",
      "3. View product details\n",
      "4. Exit\n"
     ]
    },
    {
     "name": "stdin",
     "output_type": "stream",
     "text": [
      "Enter choice:  2\n",
      "Enter product name to update:  Computer\n"
     ]
    },
    {
     "name": "stdout",
     "output_type": "stream",
     "text": [
      "Product not found!\n",
      "\n",
      "Select an option:\n",
      "1. Add a new product\n",
      "2. Update product stock\n",
      "3. View product details\n",
      "4. Exit\n"
     ]
    },
    {
     "name": "stdin",
     "output_type": "stream",
     "text": [
      "Enter choice:  2\n",
      "Enter product name to update:  pc\n"
     ]
    },
    {
     "name": "stdout",
     "output_type": "stream",
     "text": [
      "Product not found!\n",
      "\n",
      "Select an option:\n",
      "1. Add a new product\n",
      "2. Update product stock\n",
      "3. View product details\n",
      "4. Exit\n"
     ]
    },
    {
     "name": "stdin",
     "output_type": "stream",
     "text": [
      "Enter choice:  4\n"
     ]
    },
    {
     "name": "stdout",
     "output_type": "stream",
     "text": [
      "Exiting the system. Goodbye!\n"
     ]
    }
   ],
   "source": [
    "class Product:\n",
    "    def __init__(self, name, price, stock):\n",
    "        self.name = name\n",
    "        self.price = price\n",
    "        self.stock = stock\n",
    "\n",
    "    def update_stock(self, quantity):\n",
    "        \"\"\"Adds or removes the specified quantity from the product stock.\"\"\"\n",
    "        self.stock += quantity\n",
    "\n",
    "    def __str__(self):\n",
    "        \"\"\"Returns the product details as a formatted string.\"\"\"\n",
    "        return f\"Product: {self.name}, Price: ${self.price:.2f}, Stock: {self.stock}\"\n",
    "\n",
    "class Store:\n",
    "    def __init__(self):\n",
    "        self.products = {}\n",
    "\n",
    "    def add_product(self):\n",
    "        \"\"\"Adds a new product to the store.\"\"\"\n",
    "        name = input(\"Enter product name: \")\n",
    "        price = float(input(\"Enter product price: \"))\n",
    "        stock = int(input(\"Enter product stock: \"))\n",
    "        new_product = Product(name, price, stock)\n",
    "        self.products[name] = new_product\n",
    "        print(\"Product added successfully!\")\n",
    "\n",
    "    def update_stock(self):\n",
    "        \"\"\"Updates the stock of an existing product.\"\"\"\n",
    "        name = input(\"Enter product name to update: \")\n",
    "        if name in self.products:\n",
    "            quantity = int(input(\"Enter quantity to add/remove: \"))\n",
    "            self.products[name].update_stock(quantity)\n",
    "            print(\"Stock updated successfully!\")\n",
    "        else:\n",
    "            print(\"Product not found!\")\n",
    "\n",
    "    def view_product(self):\n",
    "        \"\"\"Displays the details of a product.\"\"\"\n",
    "        name = input(\"Enter product name: \")\n",
    "        if name in self.products:\n",
    "            print(self.products[name])\n",
    "        else:\n",
    "            print(\"Product not found!\")\n",
    "\n",
    "def main():\n",
    "    store = Store()\n",
    "\n",
    "    while True:\n",
    "        print(\"\\nSelect an option:\")\n",
    "        print(\"1. Add a new product\")\n",
    "        print(\"2. Update product stock\")\n",
    "        print(\"3. View product details\")\n",
    "        print(\"4. Exit\")\n",
    "        \n",
    "        choice = input(\"Enter choice: \")\n",
    "\n",
    "        if choice == \"1\":  #Add Product\n",
    "            store.add_product()\n",
    "        elif choice == \"2\":  #Update stock\n",
    "            store.update_stock()\n",
    "        elif choice == \"3\":  #View Product Details\n",
    "            store.view_product()\n",
    "        elif choice == \"4\": #\n",
    "            print(\"Exiting the system. Goodbye!\")\n",
    "            break\n",
    "        else:\n",
    "            print(\"Invalid choice. Please try again.\")\n",
    "\n",
    "if __name__ == \"__main__\":\n",
    "    main()"
   ]
  },
  {
   "cell_type": "code",
   "execution_count": null,
   "id": "7cc13389-7682-4615-941a-40e5d8696b15",
   "metadata": {},
   "outputs": [],
   "source": []
  }
 ],
 "metadata": {
  "kernelspec": {
   "display_name": "newkernel",
   "language": "python",
   "name": "newkernel"
  },
  "language_info": {
   "codemirror_mode": {
    "name": "ipython",
    "version": 3
   },
   "file_extension": ".py",
   "mimetype": "text/x-python",
   "name": "python",
   "nbconvert_exporter": "python",
   "pygments_lexer": "ipython3",
   "version": "3.13.1"
  }
 },
 "nbformat": 4,
 "nbformat_minor": 5
}
