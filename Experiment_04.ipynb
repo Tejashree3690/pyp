{
  "metadata": {
    "kernelspec": {
      "name": "python",
      "display_name": "Python (Pyodide)",
      "language": "python"
    },
    "language_info": {
      "codemirror_mode": {
        "name": "python",
        "version": 3
      },
      "file_extension": ".py",
      "mimetype": "text/x-python",
      "name": "python",
      "nbconvert_exporter": "python",
      "pygments_lexer": "ipython3",
      "version": "3.8"
    }
  },
  "nbformat_minor": 5,
  "nbformat": 4,
  "cells": [
    {
      "id": "5637d15f-f2b7-45e9-a4e8-773881af1ab6",
      "cell_type": "code",
      "source": "import os\n\nfiles = [f for f in os.listdir('.') if os.path.isfile(f)]\n\nprint(\"Files in the current directory:\")\nfor file in files:\n    print(file)",
      "metadata": {
        "trusted": true
      },
      "outputs": [
        {
          "name": "stdout",
          "output_type": "stream",
          "text": "Files in the current directory:\nExperiment_02.ipynb\nExperiment_03.ipynb\nIntro.ipynb\nUntitled3.ipynb\nUntitled4.ipynb\nUntitled5.ipynb\nUntitled6.ipynb\nfile.txt\nLorenz.ipynb\nsqlite.ipynb\n"
        }
      ],
      "execution_count": 2
    },
    {
      "id": "45f9a652-d852-487d-850f-07b95ca32ed0",
      "cell_type": "code",
      "source": "from pathlib import Path\n\ncurrent_directory = Path('-')\nfiles = [f for f in Path('.').iterdir() if f.is_file()]\n\n# Print the files\nprint(\"Files in the current directory:\")\nfor file in files:\n    print(file.name)",
      "metadata": {
        "trusted": true
      },
      "outputs": [
        {
          "name": "stdout",
          "output_type": "stream",
          "text": "Files in the current directory:\nExperiment_02.ipynb\nExperiment_03.ipynb\nIntro.ipynb\nUntitled3.ipynb\nUntitled4.ipynb\nUntitled5.ipynb\nUntitled6.ipynb\nfile.txt\nLorenz.ipynb\nsqlite.ipynb\n"
        }
      ],
      "execution_count": 4
    },
    {
      "id": "a16fbc9e-0ecc-4774-9bb7-77163e053cf5",
      "cell_type": "code",
      "source": "",
      "metadata": {
        "trusted": true
      },
      "outputs": [],
      "execution_count": null
    }
  ]
}